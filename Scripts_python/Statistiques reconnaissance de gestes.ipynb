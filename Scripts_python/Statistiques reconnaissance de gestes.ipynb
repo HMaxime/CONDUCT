{
 "cells": [
  {
   "cell_type": "code",
   "execution_count": 36,
   "metadata": {},
   "outputs": [],
   "source": [
    "import numpy as np\n",
    "import seaborn as sns\n",
    "import glob\n",
    "import csv\n",
    "from sklearn.model_selection import train_test_split\n",
    "import math\n"
   ]
  },
  {
   "cell_type": "code",
   "execution_count": 37,
   "metadata": {},
   "outputs": [],
   "source": [
    "\"\"\"\n",
    "Created on Wed Apr  1 12:08:53 2020\n",
    "\n",
    "@author: sylviegibet\n",
    "\"\"\"\n",
    "\n",
    "\"\"\" iterative version of DTW distance computation between two sequences\n",
    "    @param s1 - the first sequence\n",
    "    @param s2 - the second sequence\n",
    "    return The DTW distance, DTW accumulated cost matrixm and the optimal path warping\n",
    "    Cet algorithme calcule les distances cumulées en partant de début des séquences s1 et s2 jusqu'à la fin . \n",
    "    Il remplit une matrice DTW de distances locales : \n",
    "         DTW[i,j] = C[i-1,j-1] + min(DTW[i-1,j-1],DTW[i-1,j],DTW[i,j-1]), \n",
    "         i et j étant les indices respectifs sur le parcours des séquences s1 et s2\n",
    "    C[i-1,j-1] représente le coût entre s1[i] et s2[i] : cela peut être une distance euclidienne (au carré) \n",
    "    entre 2 points d'une trajectoire\n",
    "    Il est possible de visualiser les matrices de coût C et de coût cumulé DTW avec plt.imshow()\n",
    "\"\"\"\n",
    "def DTW_iterative(s1,s2):\n",
    "    n = s1.shape[0]\n",
    "    m = s2.shape[0]\n",
    "    # initialize Cost matrix\n",
    "    C = computeCMatrix(s1,s2)\n",
    "    # initialize DTW matrix\n",
    "    DTW = np.ones((n+1,m+1)) * np.Inf\n",
    "    DTW[0,0] = 0\n",
    "    DTW[1,1] = C[0,0]\n",
    "    # compute DTW\n",
    "    for i in range(2,n+1):\n",
    "        DTW[i,1] = C[i-1,0] + DTW[i-1,1]\n",
    "    for j in range(2,m+1):\n",
    "        DTW[1,j] = C[0,j-1] + DTW[1,j-1]\n",
    "    for i in range(2,n+1):\n",
    "        for j in range(2,m+1):\n",
    "            DTW[i,j] = C[i-1,j-1] + min(DTW[i-1,j-1],DTW[i-1,j],DTW[i,j-1])\n",
    "    \n",
    "    path = optimalWarpingPath(DTW)\n",
    "    dtw_distance = DTW[-1,-1]/(len(path))\n",
    "    \n",
    "    return dtw_distance\n",
    "\n",
    "\"\"\" optimal warping path given a DTW distance matrix\n",
    "    @param D - The DTW distance matrix\n",
    "    @return The optimal warping pathm, a 2Darray of (L,2) shape where L is the number of steps\n",
    "    On part de la fin et on trace un chemin optimal\n",
    "\"\"\"\n",
    "\n",
    "def optimalWarpingPath(D):\n",
    "    path = []\n",
    "    i, j = np.shape(D)\n",
    "    i=i-1\n",
    "    j=j-1\n",
    "    path.append((i,j))\n",
    "    while i!=1 and j!=1:\n",
    "        if i==1:\n",
    "            path.append((1,j-1))\n",
    "            j=j-1\n",
    "        elif j==1:\n",
    "            path.append((i-1,1))\n",
    "            i=i-1\n",
    "        else:\n",
    "            back_step = [D[i-1,j-1],D[i-1,j],D[i,j-1]]\n",
    "            arg = np.argmin(back_step)\n",
    "            if arg==0:\n",
    "                i = i-1\n",
    "                j = j-1\n",
    "            elif arg==1:\n",
    "                i=i-1\n",
    "            elif arg==2:\n",
    "                j=j-1\n",
    "            path.append((i,j))\n",
    "    path.append((1,1))\n",
    "    \n",
    "    return np.asarray(path)\n",
    "\n",
    "def computeCMatrix(t1,t2):\n",
    "    return np.asarray([[ computeEuclidianDistance(t1[i],t2[j]) for j in range(len(t2))]for i in range(len(t1))])\n",
    "\n",
    "def computeEuclidianDistance(p1,p2):\n",
    "    sum=0\n",
    "    if(len(p1.shape)==0):\n",
    "        sum+=np.power(p1-p2,2)    \n",
    "    else:\n",
    "        for i in range(p1.shape[0]):\n",
    "            sum+=np.power(p1[i]-p2[i],2)\n",
    "    return np.sqrt(sum)\n",
    "\n"
   ]
  },
  {
   "cell_type": "code",
   "execution_count": 38,
   "metadata": {},
   "outputs": [],
   "source": [
    "def KNN(K,datas,data,targets,compute_distance):\n",
    "    distances=[]\n",
    "    for i in range(len(datas)):\n",
    "        distances.append([compute_distance(datas[i],data),targets[i]])\n",
    "    distances.sort(key=lambda d : d[0])\n",
    "    distances=np.array(distances[1:])\n",
    "    distances=np.array(distances[:K,1],dtype='int64')\n",
    "    return np.bincount(distances).argmax()"
   ]
  },
  {
   "cell_type": "code",
   "execution_count": 39,
   "metadata": {},
   "outputs": [],
   "source": [
    "mypath=\"Unity/Datas/gestes_statiques/*.txt\"\n",
    "datas=[]\n",
    "targets=[]\n",
    "i=0\n",
    "for path in glob.glob(mypath):\n",
    "    with open(path,'r') as csvfile:\n",
    "        plots = csv.reader(csvfile, delimiter=' ')\n",
    "        for row in plots:\n",
    "            values=[]\n",
    "            for value in row:\n",
    "                values.append(float(value.replace(\",\",\".\")))\n",
    "            targets.append(i)\n",
    "            datas.append(np.asarray(values))\n",
    "        i+=1\n",
    "datas=np.asarray(datas)\n",
    "target=np.asarray(targets)\n"
   ]
  },
  {
   "cell_type": "code",
   "execution_count": 40,
   "metadata": {},
   "outputs": [
    {
     "name": "stdout",
     "output_type": "stream",
     "text": [
      "[[57.  0.  0.  0.  0.]\n",
      " [ 0. 58.  0.  0.  0.]\n",
      " [ 0.  0. 67.  0.  0.]\n",
      " [ 0.  0.  0. 64.  0.]\n",
      " [ 0.  0.  0.  0. 50.]]\n"
     ]
    }
   ],
   "source": [
    "unique_targets=np.unique(targets)\n",
    "pourcentage_donnee_test=0.2\n",
    "\n",
    "N=math.trunc(pourcentage_donnee_test*datas.shape[0])\n",
    "Xtrain, Xtest, Ytrain, Ytest = train_test_split(datas,targets, test_size=N)\n",
    "\n",
    "mat=np.zeros((len(unique_targets),len(unique_targets)))\n",
    "for i in range(len(Xtest)):\n",
    "    mat[KNN(5,Xtrain,Xtest[i],Ytrain,computeEuclidianDistance)][Ytest[i]]+=1\n",
    "print(mat)"
   ]
  },
  {
   "cell_type": "code",
   "execution_count": 41,
   "metadata": {},
   "outputs": [
    {
     "name": "stdout",
     "output_type": "stream",
     "text": [
      "taux de bonne classification :  100.0 %\n"
     ]
    }
   ],
   "source": [
    "correct_answers=np.diagonal(mat).sum()\n",
    "all_answers=mat.sum()\n",
    "\n",
    "print(\"taux de bonne classification : \",100*(correct_answers/all_answers),\"%\")"
   ]
  },
  {
   "cell_type": "code",
   "execution_count": 57,
   "metadata": {},
   "outputs": [],
   "source": [
    "mypath=\"Unity/Datas/gestes_dynamiques/*.txt\"\n",
    "datas=[]\n",
    "targets=[]\n",
    "i=0\n",
    "current_gesture=\"\"\n",
    "for path in glob.glob(mypath):\n",
    "    if(current_gesture==\"\"):\n",
    "        current_gesture=path.split(\"\\\\\")[-1][0:6]\n",
    "    if(current_gesture!=path.split(\"\\\\\")[-1][0:6]):\n",
    "        i+=1\n",
    "        current_gesture=path.split(\"\\\\\")[-1][0:6]\n",
    "    with open(path,'r') as csvfile:\n",
    "        plots = csv.reader(csvfile, delimiter=' ')\n",
    "        gesture=[]\n",
    "        for row in plots:\n",
    "            values=[]\n",
    "            for value in row:\n",
    "                values.append(float(value.replace(\",\",\".\")))\n",
    "            gesture.append(np.asarray(values))\n",
    "        targets.append(i)\n",
    "        datas.append(np.asarray(gesture))\n",
    "        \n",
    "datas=np.asarray(datas)\n",
    "target=np.asarray(targets)\n"
   ]
  },
  {
   "cell_type": "code",
   "execution_count": 58,
   "metadata": {},
   "outputs": [
    {
     "name": "stdout",
     "output_type": "stream",
     "text": [
      "74\n",
      "18\n",
      "[[7. 0. 0.]\n",
      " [0. 8. 0.]\n",
      " [0. 0. 3.]]\n"
     ]
    }
   ],
   "source": [
    "unique_targets=np.unique(targets)\n",
    "pourcentage_donnee_test=0.2\n",
    "\n",
    "N=math.trunc(pourcentage_donnee_test*datas.shape[0])\n",
    "Xtrain, Xtest, Ytrain, Ytest = train_test_split(datas,targets, test_size=N)\n",
    "\n",
    "mat=np.zeros((len(unique_targets),len(unique_targets)))\n",
    "for i in range(len(Xtest)):\n",
    "    mat[KNN(3,Xtrain,Xtest[i],Ytrain,DTW_iterative)][Ytest[i]]+=1\n",
    "    \n",
    "print(mat)"
   ]
  },
  {
   "cell_type": "code",
   "execution_count": 59,
   "metadata": {},
   "outputs": [
    {
     "name": "stdout",
     "output_type": "stream",
     "text": [
      "taux de bonne classification :  100.0 %\n"
     ]
    }
   ],
   "source": [
    "correct_answers=np.diagonal(mat).sum()\n",
    "all_answers=mat.sum()\n",
    "\n",
    "print(\"taux de bonne classification : \",100*(correct_answers/all_answers),\"%\")"
   ]
  }
 ],
 "metadata": {
  "kernelspec": {
   "display_name": "Python 3",
   "language": "python",
   "name": "python3"
  },
  "language_info": {
   "codemirror_mode": {
    "name": "ipython",
    "version": 3
   },
   "file_extension": ".py",
   "mimetype": "text/x-python",
   "name": "python",
   "nbconvert_exporter": "python",
   "pygments_lexer": "ipython3",
   "version": "3.7.6"
  }
 },
 "nbformat": 4,
 "nbformat_minor": 4
}
